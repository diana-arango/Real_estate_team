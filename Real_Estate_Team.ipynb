{
  "nbformat": 4,
  "nbformat_minor": 0,
  "metadata": {
    "colab": {
      "name": "Real Estate Team",
      "provenance": [],
      "collapsed_sections": [],
      "authorship_tag": "ABX9TyPqd0tOMKvvT/ogWItLKejt",
      "include_colab_link": true
    },
    "kernelspec": {
      "name": "python3",
      "display_name": "Python 3"
    },
    "language_info": {
      "name": "python"
    }
  },
  "cells": [
    {
      "cell_type": "markdown",
      "metadata": {
        "id": "view-in-github",
        "colab_type": "text"
      },
      "source": [
        "<a href=\"https://colab.research.google.com/github/diana-arango/Real_estate_team/blob/main/Real_Estate_Team.ipynb\" target=\"_parent\"><img src=\"https://colab.research.google.com/assets/colab-badge.svg\" alt=\"Open In Colab\"/></a>"
      ]
    },
    {
      "cell_type": "code",
      "metadata": {
        "id": "kMNFBsM5hzXw"
      },
      "source": [
        "import warnings\n",
        "warnings.filterwarnings('ignore')"
      ],
      "execution_count": null,
      "outputs": []
    },
    {
      "cell_type": "code",
      "metadata": {
        "id": "A1Hqutm6iicD"
      },
      "source": [
        "import numpy as np\n",
        "import pandas as pd\n",
        "from pathlib import Path\n",
        "from collections import Counter\n",
        "import matplotlib.pyplot as plt"
      ],
      "execution_count": null,
      "outputs": []
    },
    {
      "cell_type": "markdown",
      "metadata": {
        "id": "keVvpOxwijVt"
      },
      "source": [
        "# **Read the CSV file**"
      ]
    },
    {
      "cell_type": "code",
      "metadata": {
        "colab": {
          "base_uri": "https://localhost:8080/"
        },
        "id": "orYHxizxiqPI",
        "outputId": "aa5c80a6-3c9d-4ab4-8edd-874c6be052de"
      },
      "source": [
        "from google.colab import drive\n",
        "drive.mount('/content/drive')\n",
        "file_path = \"https://drive.google.com/file/d/1ouo22BeoUvDlOdNHHj6lddSy3XWaRFy8/view?usp=sharing\"\n"
      ],
      "execution_count": null,
      "outputs": [
        {
          "output_type": "stream",
          "name": "stdout",
          "text": [
            "Mounted at /content/drive\n"
          ]
        }
      ]
    },
    {
      "cell_type": "code",
      "metadata": {
        "colab": {
          "base_uri": "https://localhost:8080/"
        },
        "id": "8PiXQF71392y",
        "outputId": "ba353e62-869d-42af-c93c-ea2d7c9fd3a3"
      },
      "source": [
        "# Show there is access to google drive\n",
        "!ls \"/content/drive/My Drive/housing.csv\""
      ],
      "execution_count": null,
      "outputs": [
        {
          "output_type": "stream",
          "name": "stdout",
          "text": [
            "'/content/drive/My Drive/housing.csv'\n"
          ]
        }
      ]
    },
    {
      "cell_type": "code",
      "metadata": {
        "id": "lqAS2yDE4FPH"
      },
      "source": [
        "#copy file(s) as needed:\n",
        "!cp \"/content/drive/My Drive/housing.csv\" \"housing.csv\""
      ],
      "execution_count": null,
      "outputs": []
    },
    {
      "cell_type": "code",
      "metadata": {
        "colab": {
          "base_uri": "https://localhost:8080/"
        },
        "id": "JfdFB2GE4Qp5",
        "outputId": "1b7ab22d-c1c1-48f9-f955-7f342ffce4c5"
      },
      "source": [
        "#confirm that files were copied\n",
        "!ls"
      ],
      "execution_count": null,
      "outputs": [
        {
          "output_type": "stream",
          "name": "stdout",
          "text": [
            "drive  housing.csv  sample_data\n"
          ]
        }
      ]
    },
    {
      "cell_type": "markdown",
      "metadata": {
        "id": "5HowAT8_xfx_"
      },
      "source": [
        "# Cleaning data"
      ]
    },
    {
      "cell_type": "code",
      "metadata": {
        "colab": {
          "base_uri": "https://localhost:8080/",
          "height": 881
        },
        "id": "yr83T0gewpvt",
        "outputId": "3bcf591d-cf84-40d2-da0a-ae114fcca235"
      },
      "source": [
        "#Read housing.csv file \n",
        "housing_df = pd.read_csv(\"housing.csv\")\n",
        "housing_df"
      ],
      "execution_count": null,
      "outputs": [
        {
          "output_type": "execute_result",
          "data": {
            "text/html": [
              "<div>\n",
              "<style scoped>\n",
              "    .dataframe tbody tr th:only-of-type {\n",
              "        vertical-align: middle;\n",
              "    }\n",
              "\n",
              "    .dataframe tbody tr th {\n",
              "        vertical-align: top;\n",
              "    }\n",
              "\n",
              "    .dataframe thead th {\n",
              "        text-align: right;\n",
              "    }\n",
              "</style>\n",
              "<table border=\"1\" class=\"dataframe\">\n",
              "  <thead>\n",
              "    <tr style=\"text-align: right;\">\n",
              "      <th></th>\n",
              "      <th>id</th>\n",
              "      <th>url</th>\n",
              "      <th>region</th>\n",
              "      <th>region_url</th>\n",
              "      <th>price</th>\n",
              "      <th>type</th>\n",
              "      <th>sqfeet</th>\n",
              "      <th>beds</th>\n",
              "      <th>baths</th>\n",
              "      <th>cats_allowed</th>\n",
              "      <th>dogs_allowed</th>\n",
              "      <th>smoking_allowed</th>\n",
              "      <th>wheelchair_access</th>\n",
              "      <th>electric_vehicle_charge</th>\n",
              "      <th>comes_furnished</th>\n",
              "      <th>laundry_options</th>\n",
              "      <th>parking_options</th>\n",
              "      <th>image_url</th>\n",
              "      <th>description</th>\n",
              "      <th>lat</th>\n",
              "      <th>long</th>\n",
              "      <th>state</th>\n",
              "    </tr>\n",
              "  </thead>\n",
              "  <tbody>\n",
              "    <tr>\n",
              "      <th>0</th>\n",
              "      <td>7049044568</td>\n",
              "      <td>https://reno.craigslist.org/apa/d/reno-beautif...</td>\n",
              "      <td>reno / tahoe</td>\n",
              "      <td>https://reno.craigslist.org</td>\n",
              "      <td>1148</td>\n",
              "      <td>apartment</td>\n",
              "      <td>1078</td>\n",
              "      <td>3</td>\n",
              "      <td>2.0</td>\n",
              "      <td>1</td>\n",
              "      <td>1</td>\n",
              "      <td>0</td>\n",
              "      <td>0</td>\n",
              "      <td>0</td>\n",
              "      <td>0</td>\n",
              "      <td>w/d in unit</td>\n",
              "      <td>carport</td>\n",
              "      <td>https://images.craigslist.org/01616_daghmBUvTC...</td>\n",
              "      <td>Ridgeview by Vintage is where you will find al...</td>\n",
              "      <td>39.5483</td>\n",
              "      <td>-119.796</td>\n",
              "      <td>ca</td>\n",
              "    </tr>\n",
              "    <tr>\n",
              "      <th>1</th>\n",
              "      <td>7049047186</td>\n",
              "      <td>https://reno.craigslist.org/apa/d/reno-reduced...</td>\n",
              "      <td>reno / tahoe</td>\n",
              "      <td>https://reno.craigslist.org</td>\n",
              "      <td>1200</td>\n",
              "      <td>condo</td>\n",
              "      <td>1001</td>\n",
              "      <td>2</td>\n",
              "      <td>2.0</td>\n",
              "      <td>0</td>\n",
              "      <td>0</td>\n",
              "      <td>0</td>\n",
              "      <td>0</td>\n",
              "      <td>0</td>\n",
              "      <td>0</td>\n",
              "      <td>w/d hookups</td>\n",
              "      <td>carport</td>\n",
              "      <td>https://images.craigslist.org/00V0V_5va0MkgO9q...</td>\n",
              "      <td>Conveniently located in the middle town of Ren...</td>\n",
              "      <td>39.5026</td>\n",
              "      <td>-119.789</td>\n",
              "      <td>ca</td>\n",
              "    </tr>\n",
              "    <tr>\n",
              "      <th>2</th>\n",
              "      <td>7043634882</td>\n",
              "      <td>https://reno.craigslist.org/apa/d/sparks-state...</td>\n",
              "      <td>reno / tahoe</td>\n",
              "      <td>https://reno.craigslist.org</td>\n",
              "      <td>1813</td>\n",
              "      <td>apartment</td>\n",
              "      <td>1683</td>\n",
              "      <td>2</td>\n",
              "      <td>2.0</td>\n",
              "      <td>1</td>\n",
              "      <td>1</td>\n",
              "      <td>1</td>\n",
              "      <td>0</td>\n",
              "      <td>0</td>\n",
              "      <td>0</td>\n",
              "      <td>w/d in unit</td>\n",
              "      <td>attached garage</td>\n",
              "      <td>https://images.craigslist.org/00t0t_erYqC6LgB8...</td>\n",
              "      <td>2BD | 2BA | 1683SQFTDiscover exceptional servi...</td>\n",
              "      <td>39.6269</td>\n",
              "      <td>-119.708</td>\n",
              "      <td>ca</td>\n",
              "    </tr>\n",
              "    <tr>\n",
              "      <th>3</th>\n",
              "      <td>7049045324</td>\n",
              "      <td>https://reno.craigslist.org/apa/d/reno-1x1-fir...</td>\n",
              "      <td>reno / tahoe</td>\n",
              "      <td>https://reno.craigslist.org</td>\n",
              "      <td>1095</td>\n",
              "      <td>apartment</td>\n",
              "      <td>708</td>\n",
              "      <td>1</td>\n",
              "      <td>1.0</td>\n",
              "      <td>1</td>\n",
              "      <td>1</td>\n",
              "      <td>1</td>\n",
              "      <td>0</td>\n",
              "      <td>0</td>\n",
              "      <td>0</td>\n",
              "      <td>w/d in unit</td>\n",
              "      <td>carport</td>\n",
              "      <td>https://images.craigslist.org/00303_3HSJz75zlI...</td>\n",
              "      <td>MOVE IN SPECIAL FREE WASHER/DRYER WITH 6 OR 12...</td>\n",
              "      <td>39.4477</td>\n",
              "      <td>-119.771</td>\n",
              "      <td>ca</td>\n",
              "    </tr>\n",
              "    <tr>\n",
              "      <th>4</th>\n",
              "      <td>7049043759</td>\n",
              "      <td>https://reno.craigslist.org/apa/d/reno-no-long...</td>\n",
              "      <td>reno / tahoe</td>\n",
              "      <td>https://reno.craigslist.org</td>\n",
              "      <td>289</td>\n",
              "      <td>apartment</td>\n",
              "      <td>250</td>\n",
              "      <td>0</td>\n",
              "      <td>1.0</td>\n",
              "      <td>1</td>\n",
              "      <td>1</td>\n",
              "      <td>1</td>\n",
              "      <td>1</td>\n",
              "      <td>0</td>\n",
              "      <td>1</td>\n",
              "      <td>laundry on site</td>\n",
              "      <td>NaN</td>\n",
              "      <td>https://images.craigslist.org/01616_fALAWFV8zQ...</td>\n",
              "      <td>Move In Today: Reno Low-Cost, Clean &amp; Furnishe...</td>\n",
              "      <td>39.5357</td>\n",
              "      <td>-119.805</td>\n",
              "      <td>ca</td>\n",
              "    </tr>\n",
              "    <tr>\n",
              "      <th>...</th>\n",
              "      <td>...</td>\n",
              "      <td>...</td>\n",
              "      <td>...</td>\n",
              "      <td>...</td>\n",
              "      <td>...</td>\n",
              "      <td>...</td>\n",
              "      <td>...</td>\n",
              "      <td>...</td>\n",
              "      <td>...</td>\n",
              "      <td>...</td>\n",
              "      <td>...</td>\n",
              "      <td>...</td>\n",
              "      <td>...</td>\n",
              "      <td>...</td>\n",
              "      <td>...</td>\n",
              "      <td>...</td>\n",
              "      <td>...</td>\n",
              "      <td>...</td>\n",
              "      <td>...</td>\n",
              "      <td>...</td>\n",
              "      <td>...</td>\n",
              "      <td>...</td>\n",
              "    </tr>\n",
              "    <tr>\n",
              "      <th>384972</th>\n",
              "      <td>7049053337</td>\n",
              "      <td>https://reno.craigslist.org/apa/d/reno-2x2-thi...</td>\n",
              "      <td>reno / tahoe</td>\n",
              "      <td>https://reno.craigslist.org</td>\n",
              "      <td>1295</td>\n",
              "      <td>apartment</td>\n",
              "      <td>957</td>\n",
              "      <td>2</td>\n",
              "      <td>2.0</td>\n",
              "      <td>1</td>\n",
              "      <td>1</td>\n",
              "      <td>1</td>\n",
              "      <td>0</td>\n",
              "      <td>0</td>\n",
              "      <td>0</td>\n",
              "      <td>w/d in unit</td>\n",
              "      <td>carport</td>\n",
              "      <td>https://images.craigslist.org/00O0O_atyH2pgYeH...</td>\n",
              "      <td>MOVE IN SPECIAL FREE WASHER/DRYER WITH 6 OR 12...</td>\n",
              "      <td>39.4477</td>\n",
              "      <td>-119.771</td>\n",
              "      <td>ca</td>\n",
              "    </tr>\n",
              "    <tr>\n",
              "      <th>384973</th>\n",
              "      <td>7049052968</td>\n",
              "      <td>https://reno.craigslist.org/apa/d/sparks-over-...</td>\n",
              "      <td>reno / tahoe</td>\n",
              "      <td>https://reno.craigslist.org</td>\n",
              "      <td>1549</td>\n",
              "      <td>apartment</td>\n",
              "      <td>1034</td>\n",
              "      <td>2</td>\n",
              "      <td>2.0</td>\n",
              "      <td>1</td>\n",
              "      <td>1</td>\n",
              "      <td>0</td>\n",
              "      <td>0</td>\n",
              "      <td>0</td>\n",
              "      <td>0</td>\n",
              "      <td>w/d in unit</td>\n",
              "      <td>NaN</td>\n",
              "      <td>https://images.craigslist.org/00808_3EobCZHFEx...</td>\n",
              "      <td>AN OASIS OF YOUR OWN Introducing Lumina at Spa...</td>\n",
              "      <td>39.6269</td>\n",
              "      <td>-119.708</td>\n",
              "      <td>ca</td>\n",
              "    </tr>\n",
              "    <tr>\n",
              "      <th>384974</th>\n",
              "      <td>7049050454</td>\n",
              "      <td>https://reno.craigslist.org/apa/d/sparks-1mont...</td>\n",
              "      <td>reno / tahoe</td>\n",
              "      <td>https://reno.craigslist.org</td>\n",
              "      <td>1249</td>\n",
              "      <td>apartment</td>\n",
              "      <td>840</td>\n",
              "      <td>2</td>\n",
              "      <td>1.0</td>\n",
              "      <td>1</td>\n",
              "      <td>1</td>\n",
              "      <td>1</td>\n",
              "      <td>0</td>\n",
              "      <td>0</td>\n",
              "      <td>0</td>\n",
              "      <td>laundry on site</td>\n",
              "      <td>off-street parking</td>\n",
              "      <td>https://images.craigslist.org/01111_kr3uKMhzrf...</td>\n",
              "      <td>***Newly MODERNIZED Apartment Home***  âï¸ ...</td>\n",
              "      <td>39.5358</td>\n",
              "      <td>-119.746</td>\n",
              "      <td>ca</td>\n",
              "    </tr>\n",
              "    <tr>\n",
              "      <th>384975</th>\n",
              "      <td>7049050149</td>\n",
              "      <td>https://reno.craigslist.org/apa/d/sparks-ready...</td>\n",
              "      <td>reno / tahoe</td>\n",
              "      <td>https://reno.craigslist.org</td>\n",
              "      <td>1429</td>\n",
              "      <td>apartment</td>\n",
              "      <td>976</td>\n",
              "      <td>2</td>\n",
              "      <td>2.0</td>\n",
              "      <td>1</td>\n",
              "      <td>1</td>\n",
              "      <td>1</td>\n",
              "      <td>0</td>\n",
              "      <td>0</td>\n",
              "      <td>0</td>\n",
              "      <td>w/d in unit</td>\n",
              "      <td>carport</td>\n",
              "      <td>https://images.craigslist.org/00c0c_1GslcQnpLP...</td>\n",
              "      <td>Welcome Home We welcome you to The Villas at D...</td>\n",
              "      <td>39.5585</td>\n",
              "      <td>-119.703</td>\n",
              "      <td>ca</td>\n",
              "    </tr>\n",
              "    <tr>\n",
              "      <th>384976</th>\n",
              "      <td>7049050010</td>\n",
              "      <td>https://reno.craigslist.org/apa/d/reno-2x2-thi...</td>\n",
              "      <td>reno / tahoe</td>\n",
              "      <td>https://reno.craigslist.org</td>\n",
              "      <td>1295</td>\n",
              "      <td>apartment</td>\n",
              "      <td>957</td>\n",
              "      <td>2</td>\n",
              "      <td>2.0</td>\n",
              "      <td>1</td>\n",
              "      <td>1</td>\n",
              "      <td>1</td>\n",
              "      <td>0</td>\n",
              "      <td>0</td>\n",
              "      <td>0</td>\n",
              "      <td>w/d in unit</td>\n",
              "      <td>carport</td>\n",
              "      <td>https://images.craigslist.org/00O0O_atyH2pgYeH...</td>\n",
              "      <td>MOVE IN SPECIAL FREE WASHER/DRYER WITH 6 OR 12...</td>\n",
              "      <td>39.4477</td>\n",
              "      <td>-119.771</td>\n",
              "      <td>ca</td>\n",
              "    </tr>\n",
              "  </tbody>\n",
              "</table>\n",
              "<p>384977 rows × 22 columns</p>\n",
              "</div>"
            ],
            "text/plain": [
              "                id  ... state\n",
              "0       7049044568  ...    ca\n",
              "1       7049047186  ...    ca\n",
              "2       7043634882  ...    ca\n",
              "3       7049045324  ...    ca\n",
              "4       7049043759  ...    ca\n",
              "...            ...  ...   ...\n",
              "384972  7049053337  ...    ca\n",
              "384973  7049052968  ...    ca\n",
              "384974  7049050454  ...    ca\n",
              "384975  7049050149  ...    ca\n",
              "384976  7049050010  ...    ca\n",
              "\n",
              "[384977 rows x 22 columns]"
            ]
          },
          "metadata": {},
          "execution_count": 7
        }
      ]
    },
    {
      "cell_type": "markdown",
      "metadata": {
        "id": "06SuFqMAwv1a"
      },
      "source": [
        "## Data Selection"
      ]
    },
    {
      "cell_type": "code",
      "metadata": {
        "colab": {
          "base_uri": "https://localhost:8080/"
        },
        "id": "u-m_GmIzw3tv",
        "outputId": "0999b45f-9318-4843-88fe-ba3534afe129"
      },
      "source": [
        "# Columns\n",
        "housing_df.columns\n"
      ],
      "execution_count": null,
      "outputs": [
        {
          "output_type": "execute_result",
          "data": {
            "text/plain": [
              "Index(['id', 'url', 'region', 'region_url', 'price', 'type', 'sqfeet', 'beds',\n",
              "       'baths', 'cats_allowed', 'dogs_allowed', 'smoking_allowed',\n",
              "       'wheelchair_access', 'electric_vehicle_charge', 'comes_furnished',\n",
              "       'laundry_options', 'parking_options', 'image_url', 'description', 'lat',\n",
              "       'long', 'state'],\n",
              "      dtype='object')"
            ]
          },
          "metadata": {},
          "execution_count": 31
        }
      ]
    },
    {
      "cell_type": "code",
      "metadata": {
        "colab": {
          "base_uri": "https://localhost:8080/"
        },
        "id": "xp-pof6F8120",
        "outputId": "ad2aa78a-2a38-4689-f97f-c6b1dc2d0635"
      },
      "source": [
        "# Determine data types for the housing DataFrame\n",
        "housing_df.dtypes"
      ],
      "execution_count": null,
      "outputs": [
        {
          "output_type": "execute_result",
          "data": {
            "text/plain": [
              "id                           int64\n",
              "url                         object\n",
              "region                      object\n",
              "region_url                  object\n",
              "price                        int64\n",
              "type                        object\n",
              "sqfeet                       int64\n",
              "beds                         int64\n",
              "baths                      float64\n",
              "cats_allowed                 int64\n",
              "dogs_allowed                 int64\n",
              "smoking_allowed              int64\n",
              "wheelchair_access            int64\n",
              "electric_vehicle_charge      int64\n",
              "comes_furnished              int64\n",
              "laundry_options             object\n",
              "parking_options             object\n",
              "image_url                   object\n",
              "description                 object\n",
              "lat                        float64\n",
              "long                       float64\n",
              "state                       object\n",
              "dtype: object"
            ]
          },
          "metadata": {},
          "execution_count": 8
        }
      ]
    },
    {
      "cell_type": "code",
      "metadata": {
        "colab": {
          "base_uri": "https://localhost:8080/",
          "height": 609
        },
        "id": "OkmoG6U2FLVH",
        "outputId": "acdb91a8-d0e4-4087-d17c-4537e9c00e63"
      },
      "source": [
        "# # Initialize a new dataframe to create a cleaner data file\n",
        "# Drop the following columns since they dont add value to our analysis: 'id','url','region_url','image_url','description','lat','long','state'\n",
        "new_clean_housing_df = housing_df.drop(['id', 'url', 'region_url', 'image_url','description'], axis=1)\n",
        "new_clean_housing_df"
      ],
      "execution_count": null,
      "outputs": [
        {
          "output_type": "execute_result",
          "data": {
            "text/html": [
              "<div>\n",
              "<style scoped>\n",
              "    .dataframe tbody tr th:only-of-type {\n",
              "        vertical-align: middle;\n",
              "    }\n",
              "\n",
              "    .dataframe tbody tr th {\n",
              "        vertical-align: top;\n",
              "    }\n",
              "\n",
              "    .dataframe thead th {\n",
              "        text-align: right;\n",
              "    }\n",
              "</style>\n",
              "<table border=\"1\" class=\"dataframe\">\n",
              "  <thead>\n",
              "    <tr style=\"text-align: right;\">\n",
              "      <th></th>\n",
              "      <th>region</th>\n",
              "      <th>price</th>\n",
              "      <th>type</th>\n",
              "      <th>sqfeet</th>\n",
              "      <th>beds</th>\n",
              "      <th>baths</th>\n",
              "      <th>cats_allowed</th>\n",
              "      <th>dogs_allowed</th>\n",
              "      <th>smoking_allowed</th>\n",
              "      <th>wheelchair_access</th>\n",
              "      <th>electric_vehicle_charge</th>\n",
              "      <th>comes_furnished</th>\n",
              "      <th>laundry_options</th>\n",
              "      <th>parking_options</th>\n",
              "      <th>lat</th>\n",
              "      <th>long</th>\n",
              "      <th>state</th>\n",
              "    </tr>\n",
              "  </thead>\n",
              "  <tbody>\n",
              "    <tr>\n",
              "      <th>0</th>\n",
              "      <td>reno / tahoe</td>\n",
              "      <td>1148</td>\n",
              "      <td>apartment</td>\n",
              "      <td>1078</td>\n",
              "      <td>3</td>\n",
              "      <td>2.0</td>\n",
              "      <td>1</td>\n",
              "      <td>1</td>\n",
              "      <td>0</td>\n",
              "      <td>0</td>\n",
              "      <td>0</td>\n",
              "      <td>0</td>\n",
              "      <td>w/d in unit</td>\n",
              "      <td>carport</td>\n",
              "      <td>39.5483</td>\n",
              "      <td>-119.796</td>\n",
              "      <td>ca</td>\n",
              "    </tr>\n",
              "    <tr>\n",
              "      <th>1</th>\n",
              "      <td>reno / tahoe</td>\n",
              "      <td>1200</td>\n",
              "      <td>condo</td>\n",
              "      <td>1001</td>\n",
              "      <td>2</td>\n",
              "      <td>2.0</td>\n",
              "      <td>0</td>\n",
              "      <td>0</td>\n",
              "      <td>0</td>\n",
              "      <td>0</td>\n",
              "      <td>0</td>\n",
              "      <td>0</td>\n",
              "      <td>w/d hookups</td>\n",
              "      <td>carport</td>\n",
              "      <td>39.5026</td>\n",
              "      <td>-119.789</td>\n",
              "      <td>ca</td>\n",
              "    </tr>\n",
              "    <tr>\n",
              "      <th>2</th>\n",
              "      <td>reno / tahoe</td>\n",
              "      <td>1813</td>\n",
              "      <td>apartment</td>\n",
              "      <td>1683</td>\n",
              "      <td>2</td>\n",
              "      <td>2.0</td>\n",
              "      <td>1</td>\n",
              "      <td>1</td>\n",
              "      <td>1</td>\n",
              "      <td>0</td>\n",
              "      <td>0</td>\n",
              "      <td>0</td>\n",
              "      <td>w/d in unit</td>\n",
              "      <td>attached garage</td>\n",
              "      <td>39.6269</td>\n",
              "      <td>-119.708</td>\n",
              "      <td>ca</td>\n",
              "    </tr>\n",
              "    <tr>\n",
              "      <th>3</th>\n",
              "      <td>reno / tahoe</td>\n",
              "      <td>1095</td>\n",
              "      <td>apartment</td>\n",
              "      <td>708</td>\n",
              "      <td>1</td>\n",
              "      <td>1.0</td>\n",
              "      <td>1</td>\n",
              "      <td>1</td>\n",
              "      <td>1</td>\n",
              "      <td>0</td>\n",
              "      <td>0</td>\n",
              "      <td>0</td>\n",
              "      <td>w/d in unit</td>\n",
              "      <td>carport</td>\n",
              "      <td>39.4477</td>\n",
              "      <td>-119.771</td>\n",
              "      <td>ca</td>\n",
              "    </tr>\n",
              "    <tr>\n",
              "      <th>4</th>\n",
              "      <td>reno / tahoe</td>\n",
              "      <td>289</td>\n",
              "      <td>apartment</td>\n",
              "      <td>250</td>\n",
              "      <td>0</td>\n",
              "      <td>1.0</td>\n",
              "      <td>1</td>\n",
              "      <td>1</td>\n",
              "      <td>1</td>\n",
              "      <td>1</td>\n",
              "      <td>0</td>\n",
              "      <td>1</td>\n",
              "      <td>laundry on site</td>\n",
              "      <td>NaN</td>\n",
              "      <td>39.5357</td>\n",
              "      <td>-119.805</td>\n",
              "      <td>ca</td>\n",
              "    </tr>\n",
              "    <tr>\n",
              "      <th>...</th>\n",
              "      <td>...</td>\n",
              "      <td>...</td>\n",
              "      <td>...</td>\n",
              "      <td>...</td>\n",
              "      <td>...</td>\n",
              "      <td>...</td>\n",
              "      <td>...</td>\n",
              "      <td>...</td>\n",
              "      <td>...</td>\n",
              "      <td>...</td>\n",
              "      <td>...</td>\n",
              "      <td>...</td>\n",
              "      <td>...</td>\n",
              "      <td>...</td>\n",
              "      <td>...</td>\n",
              "      <td>...</td>\n",
              "      <td>...</td>\n",
              "    </tr>\n",
              "    <tr>\n",
              "      <th>384972</th>\n",
              "      <td>reno / tahoe</td>\n",
              "      <td>1295</td>\n",
              "      <td>apartment</td>\n",
              "      <td>957</td>\n",
              "      <td>2</td>\n",
              "      <td>2.0</td>\n",
              "      <td>1</td>\n",
              "      <td>1</td>\n",
              "      <td>1</td>\n",
              "      <td>0</td>\n",
              "      <td>0</td>\n",
              "      <td>0</td>\n",
              "      <td>w/d in unit</td>\n",
              "      <td>carport</td>\n",
              "      <td>39.4477</td>\n",
              "      <td>-119.771</td>\n",
              "      <td>ca</td>\n",
              "    </tr>\n",
              "    <tr>\n",
              "      <th>384973</th>\n",
              "      <td>reno / tahoe</td>\n",
              "      <td>1549</td>\n",
              "      <td>apartment</td>\n",
              "      <td>1034</td>\n",
              "      <td>2</td>\n",
              "      <td>2.0</td>\n",
              "      <td>1</td>\n",
              "      <td>1</td>\n",
              "      <td>0</td>\n",
              "      <td>0</td>\n",
              "      <td>0</td>\n",
              "      <td>0</td>\n",
              "      <td>w/d in unit</td>\n",
              "      <td>NaN</td>\n",
              "      <td>39.6269</td>\n",
              "      <td>-119.708</td>\n",
              "      <td>ca</td>\n",
              "    </tr>\n",
              "    <tr>\n",
              "      <th>384974</th>\n",
              "      <td>reno / tahoe</td>\n",
              "      <td>1249</td>\n",
              "      <td>apartment</td>\n",
              "      <td>840</td>\n",
              "      <td>2</td>\n",
              "      <td>1.0</td>\n",
              "      <td>1</td>\n",
              "      <td>1</td>\n",
              "      <td>1</td>\n",
              "      <td>0</td>\n",
              "      <td>0</td>\n",
              "      <td>0</td>\n",
              "      <td>laundry on site</td>\n",
              "      <td>off-street parking</td>\n",
              "      <td>39.5358</td>\n",
              "      <td>-119.746</td>\n",
              "      <td>ca</td>\n",
              "    </tr>\n",
              "    <tr>\n",
              "      <th>384975</th>\n",
              "      <td>reno / tahoe</td>\n",
              "      <td>1429</td>\n",
              "      <td>apartment</td>\n",
              "      <td>976</td>\n",
              "      <td>2</td>\n",
              "      <td>2.0</td>\n",
              "      <td>1</td>\n",
              "      <td>1</td>\n",
              "      <td>1</td>\n",
              "      <td>0</td>\n",
              "      <td>0</td>\n",
              "      <td>0</td>\n",
              "      <td>w/d in unit</td>\n",
              "      <td>carport</td>\n",
              "      <td>39.5585</td>\n",
              "      <td>-119.703</td>\n",
              "      <td>ca</td>\n",
              "    </tr>\n",
              "    <tr>\n",
              "      <th>384976</th>\n",
              "      <td>reno / tahoe</td>\n",
              "      <td>1295</td>\n",
              "      <td>apartment</td>\n",
              "      <td>957</td>\n",
              "      <td>2</td>\n",
              "      <td>2.0</td>\n",
              "      <td>1</td>\n",
              "      <td>1</td>\n",
              "      <td>1</td>\n",
              "      <td>0</td>\n",
              "      <td>0</td>\n",
              "      <td>0</td>\n",
              "      <td>w/d in unit</td>\n",
              "      <td>carport</td>\n",
              "      <td>39.4477</td>\n",
              "      <td>-119.771</td>\n",
              "      <td>ca</td>\n",
              "    </tr>\n",
              "  </tbody>\n",
              "</table>\n",
              "<p>384977 rows × 17 columns</p>\n",
              "</div>"
            ],
            "text/plain": [
              "              region  price       type  ...      lat     long  state\n",
              "0       reno / tahoe   1148  apartment  ...  39.5483 -119.796     ca\n",
              "1       reno / tahoe   1200      condo  ...  39.5026 -119.789     ca\n",
              "2       reno / tahoe   1813  apartment  ...  39.6269 -119.708     ca\n",
              "3       reno / tahoe   1095  apartment  ...  39.4477 -119.771     ca\n",
              "4       reno / tahoe    289  apartment  ...  39.5357 -119.805     ca\n",
              "...              ...    ...        ...  ...      ...      ...    ...\n",
              "384972  reno / tahoe   1295  apartment  ...  39.4477 -119.771     ca\n",
              "384973  reno / tahoe   1549  apartment  ...  39.6269 -119.708     ca\n",
              "384974  reno / tahoe   1249  apartment  ...  39.5358 -119.746     ca\n",
              "384975  reno / tahoe   1429  apartment  ...  39.5585 -119.703     ca\n",
              "384976  reno / tahoe   1295  apartment  ...  39.4477 -119.771     ca\n",
              "\n",
              "[384977 rows x 17 columns]"
            ]
          },
          "metadata": {},
          "execution_count": 18
        }
      ]
    },
    {
      "cell_type": "code",
      "metadata": {
        "colab": {
          "base_uri": "https://localhost:8080/"
        },
        "id": "ThMxRTrol1hR",
        "outputId": "9772efba-8e16-4d4a-bc02-b4148d677f99"
      },
      "source": [
        "# Determine data types for the housing DataFrame\n",
        "new_clean_housing_df.dtypes"
      ],
      "execution_count": null,
      "outputs": [
        {
          "output_type": "execute_result",
          "data": {
            "text/plain": [
              "region                      object\n",
              "price                        int64\n",
              "type                        object\n",
              "sqfeet                       int64\n",
              "beds                         int64\n",
              "baths                      float64\n",
              "cats_allowed                 int64\n",
              "dogs_allowed                 int64\n",
              "smoking_allowed              int64\n",
              "wheelchair_access            int64\n",
              "electric_vehicle_charge      int64\n",
              "comes_furnished              int64\n",
              "laundry_options             object\n",
              "parking_options             object\n",
              "lat                        float64\n",
              "long                       float64\n",
              "state                       object\n",
              "dtype: object"
            ]
          },
          "metadata": {},
          "execution_count": 22
        }
      ]
    },
    {
      "cell_type": "code",
      "metadata": {
        "colab": {
          "base_uri": "https://localhost:8080/"
        },
        "id": "scqBfqolmYHj",
        "outputId": "91ce3c10-5c03-4cdd-e4c4-aef6d5154ce9"
      },
      "source": [
        "# Determine if there are any missing values in the housing data\n",
        "new_clean_housing_df.count()"
      ],
      "execution_count": null,
      "outputs": [
        {
          "output_type": "execute_result",
          "data": {
            "text/plain": [
              "region                     384977\n",
              "price                      384977\n",
              "type                       384977\n",
              "sqfeet                     384977\n",
              "beds                       384977\n",
              "baths                      384977\n",
              "cats_allowed               384977\n",
              "dogs_allowed               384977\n",
              "smoking_allowed            384977\n",
              "wheelchair_access          384977\n",
              "electric_vehicle_charge    384977\n",
              "comes_furnished            384977\n",
              "laundry_options            305951\n",
              "parking_options            244290\n",
              "lat                        383059\n",
              "long                       383059\n",
              "state                      384977\n",
              "dtype: int64"
            ]
          },
          "metadata": {},
          "execution_count": 24
        }
      ]
    },
    {
      "cell_type": "code",
      "metadata": {
        "colab": {
          "base_uri": "https://localhost:8080/"
        },
        "id": "Yl60dPQrmfGQ",
        "outputId": "a2fce18d-cad1-41cb-a660-4b51b45d922d"
      },
      "source": [
        "# Determine if there are any missing values in the housing data.\n",
        "# Find null values\n",
        "for column in new_clean_housing_df.columns:\n",
        "    print(f\"Column {column} has {new_clean_housing_df[column].isnull().sum()} null values\")"
      ],
      "execution_count": null,
      "outputs": [
        {
          "output_type": "stream",
          "name": "stdout",
          "text": [
            "Column region has 0 null values\n",
            "Column price has 0 null values\n",
            "Column type has 0 null values\n",
            "Column sqfeet has 0 null values\n",
            "Column beds has 0 null values\n",
            "Column baths has 0 null values\n",
            "Column cats_allowed has 0 null values\n",
            "Column dogs_allowed has 0 null values\n",
            "Column smoking_allowed has 0 null values\n",
            "Column wheelchair_access has 0 null values\n",
            "Column electric_vehicle_charge has 0 null values\n",
            "Column comes_furnished has 0 null values\n",
            "Column laundry_options has 79026 null values\n",
            "Column parking_options has 140687 null values\n",
            "Column lat has 1918 null values\n",
            "Column long has 1918 null values\n",
            "Column state has 0 null values\n"
          ]
        }
      ]
    },
    {
      "cell_type": "code",
      "metadata": {
        "colab": {
          "base_uri": "https://localhost:8080/"
        },
        "id": "lg87cETHmvy6",
        "outputId": "1c94e1f9-28f3-48f0-f9d4-a396d2b35887"
      },
      "source": [
        "#Determine the amount of  missing values in the housing data\n",
        "new_clean_housing_df.isnull().sum()"
      ],
      "execution_count": null,
      "outputs": [
        {
          "output_type": "execute_result",
          "data": {
            "text/plain": [
              "region                          0\n",
              "price                           0\n",
              "type                            0\n",
              "sqfeet                          0\n",
              "beds                            0\n",
              "baths                           0\n",
              "cats_allowed                    0\n",
              "dogs_allowed                    0\n",
              "smoking_allowed                 0\n",
              "wheelchair_access               0\n",
              "electric_vehicle_charge         0\n",
              "comes_furnished                 0\n",
              "laundry_options             79026\n",
              "parking_options            140687\n",
              "lat                          1918\n",
              "long                         1918\n",
              "state                           0\n",
              "dtype: int64"
            ]
          },
          "metadata": {},
          "execution_count": 27
        }
      ]
    },
    {
      "cell_type": "code",
      "metadata": {
        "id": "stTLCM6iiw5A",
        "colab": {
          "base_uri": "https://localhost:8080/",
          "height": 592
        },
        "outputId": "f0c68047-bc26-45ec-9d18-cc5462e945a4"
      },
      "source": [
        "# Drop the null rows \n",
        "new_clean_housing_df = new_clean_housing_df.dropna()\n",
        "new_clean_housing_df"
      ],
      "execution_count": null,
      "outputs": [
        {
          "output_type": "execute_result",
          "data": {
            "text/html": [
              "<div>\n",
              "<style scoped>\n",
              "    .dataframe tbody tr th:only-of-type {\n",
              "        vertical-align: middle;\n",
              "    }\n",
              "\n",
              "    .dataframe tbody tr th {\n",
              "        vertical-align: top;\n",
              "    }\n",
              "\n",
              "    .dataframe thead th {\n",
              "        text-align: right;\n",
              "    }\n",
              "</style>\n",
              "<table border=\"1\" class=\"dataframe\">\n",
              "  <thead>\n",
              "    <tr style=\"text-align: right;\">\n",
              "      <th></th>\n",
              "      <th>region</th>\n",
              "      <th>price</th>\n",
              "      <th>type</th>\n",
              "      <th>sqfeet</th>\n",
              "      <th>beds</th>\n",
              "      <th>baths</th>\n",
              "      <th>cats_allowed</th>\n",
              "      <th>dogs_allowed</th>\n",
              "      <th>smoking_allowed</th>\n",
              "      <th>wheelchair_access</th>\n",
              "      <th>electric_vehicle_charge</th>\n",
              "      <th>comes_furnished</th>\n",
              "      <th>laundry_options</th>\n",
              "      <th>parking_options</th>\n",
              "      <th>lat</th>\n",
              "      <th>long</th>\n",
              "      <th>state</th>\n",
              "    </tr>\n",
              "  </thead>\n",
              "  <tbody>\n",
              "    <tr>\n",
              "      <th>0</th>\n",
              "      <td>reno / tahoe</td>\n",
              "      <td>1148</td>\n",
              "      <td>apartment</td>\n",
              "      <td>1078</td>\n",
              "      <td>3</td>\n",
              "      <td>2.0</td>\n",
              "      <td>1</td>\n",
              "      <td>1</td>\n",
              "      <td>0</td>\n",
              "      <td>0</td>\n",
              "      <td>0</td>\n",
              "      <td>0</td>\n",
              "      <td>w/d in unit</td>\n",
              "      <td>carport</td>\n",
              "      <td>39.5483</td>\n",
              "      <td>-119.796</td>\n",
              "      <td>ca</td>\n",
              "    </tr>\n",
              "    <tr>\n",
              "      <th>1</th>\n",
              "      <td>reno / tahoe</td>\n",
              "      <td>1200</td>\n",
              "      <td>condo</td>\n",
              "      <td>1001</td>\n",
              "      <td>2</td>\n",
              "      <td>2.0</td>\n",
              "      <td>0</td>\n",
              "      <td>0</td>\n",
              "      <td>0</td>\n",
              "      <td>0</td>\n",
              "      <td>0</td>\n",
              "      <td>0</td>\n",
              "      <td>w/d hookups</td>\n",
              "      <td>carport</td>\n",
              "      <td>39.5026</td>\n",
              "      <td>-119.789</td>\n",
              "      <td>ca</td>\n",
              "    </tr>\n",
              "    <tr>\n",
              "      <th>2</th>\n",
              "      <td>reno / tahoe</td>\n",
              "      <td>1813</td>\n",
              "      <td>apartment</td>\n",
              "      <td>1683</td>\n",
              "      <td>2</td>\n",
              "      <td>2.0</td>\n",
              "      <td>1</td>\n",
              "      <td>1</td>\n",
              "      <td>1</td>\n",
              "      <td>0</td>\n",
              "      <td>0</td>\n",
              "      <td>0</td>\n",
              "      <td>w/d in unit</td>\n",
              "      <td>attached garage</td>\n",
              "      <td>39.6269</td>\n",
              "      <td>-119.708</td>\n",
              "      <td>ca</td>\n",
              "    </tr>\n",
              "    <tr>\n",
              "      <th>3</th>\n",
              "      <td>reno / tahoe</td>\n",
              "      <td>1095</td>\n",
              "      <td>apartment</td>\n",
              "      <td>708</td>\n",
              "      <td>1</td>\n",
              "      <td>1.0</td>\n",
              "      <td>1</td>\n",
              "      <td>1</td>\n",
              "      <td>1</td>\n",
              "      <td>0</td>\n",
              "      <td>0</td>\n",
              "      <td>0</td>\n",
              "      <td>w/d in unit</td>\n",
              "      <td>carport</td>\n",
              "      <td>39.4477</td>\n",
              "      <td>-119.771</td>\n",
              "      <td>ca</td>\n",
              "    </tr>\n",
              "    <tr>\n",
              "      <th>6</th>\n",
              "      <td>reno / tahoe</td>\n",
              "      <td>935</td>\n",
              "      <td>apartment</td>\n",
              "      <td>661</td>\n",
              "      <td>1</td>\n",
              "      <td>1.0</td>\n",
              "      <td>1</td>\n",
              "      <td>1</td>\n",
              "      <td>1</td>\n",
              "      <td>0</td>\n",
              "      <td>0</td>\n",
              "      <td>0</td>\n",
              "      <td>laundry on site</td>\n",
              "      <td>off-street parking</td>\n",
              "      <td>39.5118</td>\n",
              "      <td>-119.802</td>\n",
              "      <td>ca</td>\n",
              "    </tr>\n",
              "    <tr>\n",
              "      <th>...</th>\n",
              "      <td>...</td>\n",
              "      <td>...</td>\n",
              "      <td>...</td>\n",
              "      <td>...</td>\n",
              "      <td>...</td>\n",
              "      <td>...</td>\n",
              "      <td>...</td>\n",
              "      <td>...</td>\n",
              "      <td>...</td>\n",
              "      <td>...</td>\n",
              "      <td>...</td>\n",
              "      <td>...</td>\n",
              "      <td>...</td>\n",
              "      <td>...</td>\n",
              "      <td>...</td>\n",
              "      <td>...</td>\n",
              "      <td>...</td>\n",
              "    </tr>\n",
              "    <tr>\n",
              "      <th>384970</th>\n",
              "      <td>sacramento</td>\n",
              "      <td>1960</td>\n",
              "      <td>apartment</td>\n",
              "      <td>1198</td>\n",
              "      <td>2</td>\n",
              "      <td>2.0</td>\n",
              "      <td>1</td>\n",
              "      <td>1</td>\n",
              "      <td>1</td>\n",
              "      <td>0</td>\n",
              "      <td>0</td>\n",
              "      <td>0</td>\n",
              "      <td>w/d in unit</td>\n",
              "      <td>carport</td>\n",
              "      <td>38.4962</td>\n",
              "      <td>-121.530</td>\n",
              "      <td>ca</td>\n",
              "    </tr>\n",
              "    <tr>\n",
              "      <th>384972</th>\n",
              "      <td>reno / tahoe</td>\n",
              "      <td>1295</td>\n",
              "      <td>apartment</td>\n",
              "      <td>957</td>\n",
              "      <td>2</td>\n",
              "      <td>2.0</td>\n",
              "      <td>1</td>\n",
              "      <td>1</td>\n",
              "      <td>1</td>\n",
              "      <td>0</td>\n",
              "      <td>0</td>\n",
              "      <td>0</td>\n",
              "      <td>w/d in unit</td>\n",
              "      <td>carport</td>\n",
              "      <td>39.4477</td>\n",
              "      <td>-119.771</td>\n",
              "      <td>ca</td>\n",
              "    </tr>\n",
              "    <tr>\n",
              "      <th>384974</th>\n",
              "      <td>reno / tahoe</td>\n",
              "      <td>1249</td>\n",
              "      <td>apartment</td>\n",
              "      <td>840</td>\n",
              "      <td>2</td>\n",
              "      <td>1.0</td>\n",
              "      <td>1</td>\n",
              "      <td>1</td>\n",
              "      <td>1</td>\n",
              "      <td>0</td>\n",
              "      <td>0</td>\n",
              "      <td>0</td>\n",
              "      <td>laundry on site</td>\n",
              "      <td>off-street parking</td>\n",
              "      <td>39.5358</td>\n",
              "      <td>-119.746</td>\n",
              "      <td>ca</td>\n",
              "    </tr>\n",
              "    <tr>\n",
              "      <th>384975</th>\n",
              "      <td>reno / tahoe</td>\n",
              "      <td>1429</td>\n",
              "      <td>apartment</td>\n",
              "      <td>976</td>\n",
              "      <td>2</td>\n",
              "      <td>2.0</td>\n",
              "      <td>1</td>\n",
              "      <td>1</td>\n",
              "      <td>1</td>\n",
              "      <td>0</td>\n",
              "      <td>0</td>\n",
              "      <td>0</td>\n",
              "      <td>w/d in unit</td>\n",
              "      <td>carport</td>\n",
              "      <td>39.5585</td>\n",
              "      <td>-119.703</td>\n",
              "      <td>ca</td>\n",
              "    </tr>\n",
              "    <tr>\n",
              "      <th>384976</th>\n",
              "      <td>reno / tahoe</td>\n",
              "      <td>1295</td>\n",
              "      <td>apartment</td>\n",
              "      <td>957</td>\n",
              "      <td>2</td>\n",
              "      <td>2.0</td>\n",
              "      <td>1</td>\n",
              "      <td>1</td>\n",
              "      <td>1</td>\n",
              "      <td>0</td>\n",
              "      <td>0</td>\n",
              "      <td>0</td>\n",
              "      <td>w/d in unit</td>\n",
              "      <td>carport</td>\n",
              "      <td>39.4477</td>\n",
              "      <td>-119.771</td>\n",
              "      <td>ca</td>\n",
              "    </tr>\n",
              "  </tbody>\n",
              "</table>\n",
              "<p>235970 rows × 17 columns</p>\n",
              "</div>"
            ],
            "text/plain": [
              "              region  price       type  ...      lat     long  state\n",
              "0       reno / tahoe   1148  apartment  ...  39.5483 -119.796     ca\n",
              "1       reno / tahoe   1200      condo  ...  39.5026 -119.789     ca\n",
              "2       reno / tahoe   1813  apartment  ...  39.6269 -119.708     ca\n",
              "3       reno / tahoe   1095  apartment  ...  39.4477 -119.771     ca\n",
              "6       reno / tahoe    935  apartment  ...  39.5118 -119.802     ca\n",
              "...              ...    ...        ...  ...      ...      ...    ...\n",
              "384970    sacramento   1960  apartment  ...  38.4962 -121.530     ca\n",
              "384972  reno / tahoe   1295  apartment  ...  39.4477 -119.771     ca\n",
              "384974  reno / tahoe   1249  apartment  ...  39.5358 -119.746     ca\n",
              "384975  reno / tahoe   1429  apartment  ...  39.5585 -119.703     ca\n",
              "384976  reno / tahoe   1295  apartment  ...  39.4477 -119.771     ca\n",
              "\n",
              "[235970 rows x 17 columns]"
            ]
          },
          "metadata": {},
          "execution_count": 34
        }
      ]
    },
    {
      "cell_type": "code",
      "metadata": {
        "colab": {
          "base_uri": "https://localhost:8080/"
        },
        "id": "-r3YHEFl0pq5",
        "outputId": "94580037-a973-4d0d-fe37-8aae39d27811"
      },
      "source": [
        "# Confim there are no missing values in the housing data after cleaning data\n",
        "for column in new_clean_housing_df.columns:\n",
        "    print(f\"Column {column} has {new_clean_housing_df[column].isnull().sum()} null values\")"
      ],
      "execution_count": 35,
      "outputs": [
        {
          "output_type": "stream",
          "name": "stdout",
          "text": [
            "Column region has 0 null values\n",
            "Column price has 0 null values\n",
            "Column type has 0 null values\n",
            "Column sqfeet has 0 null values\n",
            "Column beds has 0 null values\n",
            "Column baths has 0 null values\n",
            "Column cats_allowed has 0 null values\n",
            "Column dogs_allowed has 0 null values\n",
            "Column smoking_allowed has 0 null values\n",
            "Column wheelchair_access has 0 null values\n",
            "Column electric_vehicle_charge has 0 null values\n",
            "Column comes_furnished has 0 null values\n",
            "Column laundry_options has 0 null values\n",
            "Column parking_options has 0 null values\n",
            "Column lat has 0 null values\n",
            "Column long has 0 null values\n",
            "Column state has 0 null values\n"
          ]
        }
      ]
    },
    {
      "cell_type": "code",
      "metadata": {
        "id": "yV8j6xWoFRGd"
      },
      "source": [
        "# Remove the index "
      ],
      "execution_count": null,
      "outputs": []
    },
    {
      "cell_type": "code",
      "metadata": {
        "id": "S6GW0LoGuADH"
      },
      "source": [
        "## Preprocessed dataframe is Saved in a new CSV file \n",
        "output_file_path = \"<file path>new_clean_housing.csv\"\n",
        "new_clean_housing_df.to_csv(output_file_path, index=False)\n"
      ],
      "execution_count": null,
      "outputs": []
    },
    {
      "cell_type": "code",
      "metadata": {
        "id": "R8Xbz1m6ICip"
      },
      "source": [
        "# categorize the data frame into region? state? type of housing?"
      ],
      "execution_count": null,
      "outputs": []
    },
    {
      "cell_type": "markdown",
      "metadata": {
        "id": "jkJyL8n-IGwn"
      },
      "source": [
        "## Machine learning Module"
      ]
    },
    {
      "cell_type": "code",
      "metadata": {
        "id": "fsokqojTi2bN"
      },
      "source": [
        "region_counts=df.region.value_counts()"
      ],
      "execution_count": null,
      "outputs": []
    },
    {
      "cell_type": "code",
      "metadata": {
        "id": "flwXfCgfi3z1"
      },
      "source": [
        "\n",
        "region_counts.plot.density(xlim=[0,3000])\n"
      ],
      "execution_count": null,
      "outputs": []
    },
    {
      "cell_type": "code",
      "metadata": {
        "id": "nGv2H_jti434"
      },
      "source": [
        "from sklearn.preprocessing import OneHotEncoder\n",
        "enc = OneHotEncoder(sparse=False)\n",
        "\n",
        "# Fit the encoder and produce encoded DataFrame\n",
        "encode_df_type = pd.DataFrame(enc.fit_transform(df.type.values.reshape(-1,1)))\n",
        "\n",
        "# Rename encoded columns\n",
        "encode_df_type.columns = enc.get_feature_names(['type'])\n",
        "encode_df_type.head()"
      ],
      "execution_count": null,
      "outputs": []
    },
    {
      "cell_type": "code",
      "metadata": {
        "id": "_LzaD_75i8MV"
      },
      "source": [
        "from sklearn.preprocessing import OneHotEncoder\n",
        "enc = OneHotEncoder(sparse=False)\n",
        "\n",
        "# Fit the encoder and produce encoded DataFrame\n",
        "encode_df_region = pd.DataFrame(enc.fit_transform(df.region.values.reshape(-1,1)))\n",
        "\n",
        "# Rename encoded columns\n",
        "encode_df_region.columns = enc.get_feature_names(['region'])\n",
        "encode_df_region.head()"
      ],
      "execution_count": null,
      "outputs": []
    },
    {
      "cell_type": "code",
      "metadata": {
        "id": "TBsOdu43i93F"
      },
      "source": [
        "from sklearn.preprocessing import OneHotEncoder\n",
        "enc = OneHotEncoder(sparse=False)\n",
        "\n",
        "# Fit the encoder and produce encoded DataFrame\n",
        "encode_df_laundry = pd.DataFrame(enc.fit_transform(df.laundry_options.values.reshape(-1,1)))\n",
        "\n",
        "# Rename encoded columns\n",
        "encode_df_laundry.columns = enc.get_feature_names(['laundry_options'])\n",
        "encode_df_laundry.head()"
      ],
      "execution_count": null,
      "outputs": []
    },
    {
      "cell_type": "code",
      "metadata": {
        "id": "E61pBBFcjCzp"
      },
      "source": [
        "from sklearn.preprocessing import OneHotEncoder\n",
        "enc = OneHotEncoder(sparse=False)\n",
        "\n",
        "# Fit the encoder and produce encoded DataFrame\n",
        "encode_df_parking = pd.DataFrame(enc.fit_transform(df.parking_options.values.reshape(-1,1)))\n",
        "\n",
        "# Rename encoded columns\n",
        "encode_df_parking.columns = enc.get_feature_names(['parking_options'])\n",
        "encode_df_parking.head()"
      ],
      "execution_count": null,
      "outputs": []
    },
    {
      "cell_type": "code",
      "metadata": {
        "id": "3b1j-YXDjETc"
      },
      "source": [
        "df=df.merge(encode_df_region,left_index=True,right_index=True).drop(\"region\",1)"
      ],
      "execution_count": null,
      "outputs": []
    },
    {
      "cell_type": "code",
      "metadata": {
        "id": "QrlfVC6BjGay"
      },
      "source": [
        "df=df.merge(encode_df_type,left_index=True,right_index=True).drop(\"type\",1)"
      ],
      "execution_count": null,
      "outputs": []
    },
    {
      "cell_type": "code",
      "metadata": {
        "id": "c4leVja8jIfA"
      },
      "source": [
        "df=df.merge(encode_df_laundry,left_index=True,right_index=True).drop(\"laundry_options\",1)"
      ],
      "execution_count": null,
      "outputs": []
    },
    {
      "cell_type": "code",
      "metadata": {
        "id": "DiAK-fvQjJ6u"
      },
      "source": [
        "df=df.merge(encode_df_parking,left_index=True,right_index=True).drop(\"parking_options\",1)"
      ],
      "execution_count": null,
      "outputs": []
    },
    {
      "cell_type": "code",
      "metadata": {
        "id": "idWoJP_UjLV2"
      },
      "source": [
        "df"
      ],
      "execution_count": null,
      "outputs": []
    },
    {
      "cell_type": "code",
      "metadata": {
        "id": "d17tuzHajM0r"
      },
      "source": [
        "# Create our features\n",
        "from sklearn.model_selection import train_test_split\n",
        "y = df['price']\n",
        "#X_with_dummies = pd.get_dummies(df)\n",
        "#X_with_dummies\n",
        "\n",
        "X=df.drop(columns=\"price\")\n",
        "#X=pd.get_dummies(X)\n",
        "\n",
        "# Create our target"
      ],
      "execution_count": null,
      "outputs": []
    },
    {
      "cell_type": "code",
      "metadata": {
        "id": "ECTICjhKjQIl"
      },
      "source": [
        "X"
      ],
      "execution_count": null,
      "outputs": []
    },
    {
      "cell_type": "code",
      "metadata": {
        "id": "b5RQuecnjSnG"
      },
      "source": [
        "# Check the balance of our target values\n",
        "price_counts=y.value_counts()"
      ],
      "execution_count": null,
      "outputs": []
    },
    {
      "cell_type": "code",
      "metadata": {
        "id": "32zlkcPLjT5v"
      },
      "source": [
        "# Determine which values to replace\n",
        "replace_price = list(price_counts[price_counts < 500].index)\n",
        "\n",
        "# Replace in DataFrame\n",
        "for price in replace_price:\n",
        "    df.price= df.price.replace(price,\"Other\")\n",
        "\n",
        "\n",
        "# Check to make sure binning was successful\n",
        "df.price.value_counts()"
      ],
      "execution_count": null,
      "outputs": []
    },
    {
      "cell_type": "code",
      "metadata": {
        "id": "5tTF53IhjWS3"
      },
      "source": [
        "from sklearn.model_selection import train_test_split\n",
        "# YOUR CODE HERE\n",
        "X_train, X_test, y_train, y_test=train_test_split(X,y, random_state=1)\n",
        "#Figure out how to fix stratify"
      ],
      "execution_count": null,
      "outputs": []
    },
    {
      "cell_type": "code",
      "metadata": {
        "id": "RWpKvw7NjZJ-"
      },
      "source": [
        "# Resample the training data with the RandomOversampler\n",
        "# YOUR CODE HERE\n",
        "#from imblearn.over_sampling import RandomOverSampler\n",
        "#ros = RandomOverSampler(random_state=1)\n",
        "#X_resampled, y_resampled = ros.fit_resample(X_train, y_train)\n",
        "#Counter(y_resampled)"
      ],
      "execution_count": null,
      "outputs": []
    },
    {
      "cell_type": "code",
      "metadata": {
        "id": "J_E87XBBja2R"
      },
      "source": [
        "\n",
        "from sklearn.linear_model import LinearRegression"
      ],
      "execution_count": null,
      "outputs": []
    },
    {
      "cell_type": "code",
      "metadata": {
        "id": "UotJumvFjcvN"
      },
      "source": [
        "model = LinearRegression()"
      ],
      "execution_count": null,
      "outputs": []
    },
    {
      "cell_type": "code",
      "metadata": {
        "id": "TwlbsDq7jenr"
      },
      "source": [
        "model.fit(X_train,y_train)"
      ],
      "execution_count": null,
      "outputs": []
    },
    {
      "cell_type": "code",
      "metadata": {
        "id": "QcXzVmZTjgHP"
      },
      "source": [
        "\n",
        "y_pred = model.predict(X_test)\n",
        "print(y_pred.shape)"
      ],
      "execution_count": null,
      "outputs": []
    },
    {
      "cell_type": "code",
      "metadata": {
        "id": "lKbK-hhZjh_H"
      },
      "source": [
        "from sklearn import metrics\n",
        "\n",
        "# RMSE\n",
        "print(np.sqrt(metrics.mean_squared_error(y_test, y_pred)))"
      ],
      "execution_count": null,
      "outputs": []
    }
  ]
}