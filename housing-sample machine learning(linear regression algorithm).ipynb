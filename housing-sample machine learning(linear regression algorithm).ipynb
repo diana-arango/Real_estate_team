{
 "cells": [
  {
   "cell_type": "code",
   "execution_count": 1,
   "metadata": {},
   "outputs": [],
   "source": [
    "import warnings\n",
    "warnings.filterwarnings('ignore')"
   ]
  },
  {
   "cell_type": "code",
   "execution_count": 2,
   "metadata": {},
   "outputs": [
    {
     "name": "stdout",
     "output_type": "stream",
     "text": [
      "Requirement already satisfied: psycopg2-binary in /Users/iswaryachidambaram/opt/anaconda3/envs/mlenv/lib/python3.7/site-packages (2.9.2)\n",
      "Note: you may need to restart the kernel to use updated packages.\n"
     ]
    }
   ],
   "source": [
    " pip install psycopg2-binary"
   ]
  },
  {
   "cell_type": "code",
   "execution_count": 3,
   "metadata": {},
   "outputs": [],
   "source": [
    "import numpy as np\n",
    "import pandas as pd\n",
    "from pathlib import Path\n",
    "from collections import Counter\n",
    "import matplotlib.pyplot as plt\n",
    "import json\n",
    "\n",
    "\n",
    "import re\n",
    "import psycopg2\n",
    "from sqlalchemy import create_engine\n",
    "\n",
    "\n",
    "from config import db_password,database,user,host,port\n"
   ]
  },
  {
   "cell_type": "code",
   "execution_count": 5,
   "metadata": {},
   "outputs": [],
   "source": [
    "\n",
    "\n",
    "\n",
    "import psycopg2\n",
    "engine = psycopg2.connect(\n",
    "    database=database,\n",
    "    user=user,\n",
    "    password=db_password,\n",
    "    host=\"housing-database.cmjqg2he80uz.us-east-2.rds.amazonaws.com\",\n",
    "    port=port\n",
    ")\n",
    "\n",
    "\n",
    "\n",
    "\n",
    "\n",
    "\n",
    " \n",
    " \n",
    "\n"
   ]
  },
  {
   "cell_type": "code",
   "execution_count": 6,
   "metadata": {},
   "outputs": [],
   "source": [
    "df = pd.read_sql_query(\"SELECT * FROM housing \",con=engine)"
   ]
  },
  {
   "cell_type": "code",
   "execution_count": 7,
   "metadata": {},
   "outputs": [
    {
     "data": {
      "text/html": [
       "<div>\n",
       "<style scoped>\n",
       "    .dataframe tbody tr th:only-of-type {\n",
       "        vertical-align: middle;\n",
       "    }\n",
       "\n",
       "    .dataframe tbody tr th {\n",
       "        vertical-align: top;\n",
       "    }\n",
       "\n",
       "    .dataframe thead th {\n",
       "        text-align: right;\n",
       "    }\n",
       "</style>\n",
       "<table border=\"1\" class=\"dataframe\">\n",
       "  <thead>\n",
       "    <tr style=\"text-align: right;\">\n",
       "      <th></th>\n",
       "      <th>id</th>\n",
       "      <th>url</th>\n",
       "      <th>region</th>\n",
       "      <th>region_url</th>\n",
       "      <th>price</th>\n",
       "      <th>type</th>\n",
       "      <th>sqfeet</th>\n",
       "      <th>beds</th>\n",
       "      <th>baths</th>\n",
       "      <th>cats_allowed</th>\n",
       "      <th>...</th>\n",
       "      <th>wheelchair_access</th>\n",
       "      <th>electric_vehicle_charge</th>\n",
       "      <th>comes_furnished</th>\n",
       "      <th>laundry_options</th>\n",
       "      <th>parking_options</th>\n",
       "      <th>image_url</th>\n",
       "      <th>description</th>\n",
       "      <th>latitude</th>\n",
       "      <th>longitude</th>\n",
       "      <th>state</th>\n",
       "    </tr>\n",
       "  </thead>\n",
       "  <tbody>\n",
       "    <tr>\n",
       "      <th>0</th>\n",
       "      <td>7047381918</td>\n",
       "      <td>https://cedarrapids.craigslist.org/apa/d/cedar...</td>\n",
       "      <td>cedar rapids</td>\n",
       "      <td>https://cedarrapids.craigslist.org</td>\n",
       "      <td>694.0</td>\n",
       "      <td>apartment</td>\n",
       "      <td>596</td>\n",
       "      <td>1</td>\n",
       "      <td>1.0</td>\n",
       "      <td>1</td>\n",
       "      <td>...</td>\n",
       "      <td>0</td>\n",
       "      <td>0</td>\n",
       "      <td>0</td>\n",
       "      <td>laundry on site</td>\n",
       "      <td>off-street parking</td>\n",
       "      <td>https://images.craigslist.org/01313_dgwpzX0yEI...</td>\n",
       "      <td>www.AlexandraApts.com  At Alexandra Apartments...</td>\n",
       "      <td>41.9669</td>\n",
       "      <td>-91.7285</td>\n",
       "      <td>ia</td>\n",
       "    </tr>\n",
       "    <tr>\n",
       "      <th>1</th>\n",
       "      <td>7031680107</td>\n",
       "      <td>https://cedarrapids.craigslist.org/apa/d/cedar...</td>\n",
       "      <td>cedar rapids</td>\n",
       "      <td>https://cedarrapids.craigslist.org</td>\n",
       "      <td>615.0</td>\n",
       "      <td>apartment</td>\n",
       "      <td>750</td>\n",
       "      <td>2</td>\n",
       "      <td>1.0</td>\n",
       "      <td>1</td>\n",
       "      <td>...</td>\n",
       "      <td>0</td>\n",
       "      <td>0</td>\n",
       "      <td>0</td>\n",
       "      <td>laundry in bldg</td>\n",
       "      <td>detached garage</td>\n",
       "      <td>https://images.craigslist.org/00202_j7mC8PCyoG...</td>\n",
       "      <td>Very spacious 2 bedroom unit with remodeled ki...</td>\n",
       "      <td>42.0146</td>\n",
       "      <td>-91.6308</td>\n",
       "      <td>ia</td>\n",
       "    </tr>\n",
       "    <tr>\n",
       "      <th>2</th>\n",
       "      <td>7031678322</td>\n",
       "      <td>https://cedarrapids.craigslist.org/apa/d/cedar...</td>\n",
       "      <td>cedar rapids</td>\n",
       "      <td>https://cedarrapids.craigslist.org</td>\n",
       "      <td>615.0</td>\n",
       "      <td>apartment</td>\n",
       "      <td>750</td>\n",
       "      <td>2</td>\n",
       "      <td>1.0</td>\n",
       "      <td>1</td>\n",
       "      <td>...</td>\n",
       "      <td>0</td>\n",
       "      <td>0</td>\n",
       "      <td>0</td>\n",
       "      <td>laundry in bldg</td>\n",
       "      <td>detached garage</td>\n",
       "      <td>https://images.craigslist.org/00R0R_8zreipTfGf...</td>\n",
       "      <td>Here at Continental Terrace Apartments we welc...</td>\n",
       "      <td>42.0147</td>\n",
       "      <td>-91.6307</td>\n",
       "      <td>ia</td>\n",
       "    </tr>\n",
       "    <tr>\n",
       "      <th>3</th>\n",
       "      <td>7047376663</td>\n",
       "      <td>https://cedarrapids.craigslist.org/apa/d/cedar...</td>\n",
       "      <td>cedar rapids</td>\n",
       "      <td>https://cedarrapids.craigslist.org</td>\n",
       "      <td>759.0</td>\n",
       "      <td>apartment</td>\n",
       "      <td>833</td>\n",
       "      <td>2</td>\n",
       "      <td>1.0</td>\n",
       "      <td>1</td>\n",
       "      <td>...</td>\n",
       "      <td>0</td>\n",
       "      <td>0</td>\n",
       "      <td>0</td>\n",
       "      <td>laundry on site</td>\n",
       "      <td>off-street parking</td>\n",
       "      <td>https://images.craigslist.org/00b0b_lToTMrF94A...</td>\n",
       "      <td>www.AlexandraApts.com  At Alexandra Apartments...</td>\n",
       "      <td>41.9669</td>\n",
       "      <td>-91.7285</td>\n",
       "      <td>ia</td>\n",
       "    </tr>\n",
       "    <tr>\n",
       "      <th>4</th>\n",
       "      <td>7047381784</td>\n",
       "      <td>https://cedarrapids.craigslist.org/apa/d/cedar...</td>\n",
       "      <td>cedar rapids</td>\n",
       "      <td>https://cedarrapids.craigslist.org</td>\n",
       "      <td>1110.0</td>\n",
       "      <td>apartment</td>\n",
       "      <td>960</td>\n",
       "      <td>2</td>\n",
       "      <td>1.5</td>\n",
       "      <td>1</td>\n",
       "      <td>...</td>\n",
       "      <td>0</td>\n",
       "      <td>0</td>\n",
       "      <td>1</td>\n",
       "      <td>w/d hookups</td>\n",
       "      <td>None</td>\n",
       "      <td>https://images.craigslist.org/00F0F_5kBcK1AXGA...</td>\n",
       "      <td>To schedule a tour We now book our tour appoin...</td>\n",
       "      <td>42.0427</td>\n",
       "      <td>-91.6429</td>\n",
       "      <td>ia</td>\n",
       "    </tr>\n",
       "  </tbody>\n",
       "</table>\n",
       "<p>5 rows × 22 columns</p>\n",
       "</div>"
      ],
      "text/plain": [
       "           id                                                url  \\\n",
       "0  7047381918  https://cedarrapids.craigslist.org/apa/d/cedar...   \n",
       "1  7031680107  https://cedarrapids.craigslist.org/apa/d/cedar...   \n",
       "2  7031678322  https://cedarrapids.craigslist.org/apa/d/cedar...   \n",
       "3  7047376663  https://cedarrapids.craigslist.org/apa/d/cedar...   \n",
       "4  7047381784  https://cedarrapids.craigslist.org/apa/d/cedar...   \n",
       "\n",
       "         region                          region_url   price       type  \\\n",
       "0  cedar rapids  https://cedarrapids.craigslist.org   694.0  apartment   \n",
       "1  cedar rapids  https://cedarrapids.craigslist.org   615.0  apartment   \n",
       "2  cedar rapids  https://cedarrapids.craigslist.org   615.0  apartment   \n",
       "3  cedar rapids  https://cedarrapids.craigslist.org   759.0  apartment   \n",
       "4  cedar rapids  https://cedarrapids.craigslist.org  1110.0  apartment   \n",
       "\n",
       "   sqfeet  beds  baths  cats_allowed  ...  wheelchair_access  \\\n",
       "0     596     1    1.0             1  ...                  0   \n",
       "1     750     2    1.0             1  ...                  0   \n",
       "2     750     2    1.0             1  ...                  0   \n",
       "3     833     2    1.0             1  ...                  0   \n",
       "4     960     2    1.5             1  ...                  0   \n",
       "\n",
       "   electric_vehicle_charge  comes_furnished  laundry_options  \\\n",
       "0                        0                0  laundry on site   \n",
       "1                        0                0  laundry in bldg   \n",
       "2                        0                0  laundry in bldg   \n",
       "3                        0                0  laundry on site   \n",
       "4                        0                1      w/d hookups   \n",
       "\n",
       "      parking_options                                          image_url  \\\n",
       "0  off-street parking  https://images.craigslist.org/01313_dgwpzX0yEI...   \n",
       "1     detached garage  https://images.craigslist.org/00202_j7mC8PCyoG...   \n",
       "2     detached garage  https://images.craigslist.org/00R0R_8zreipTfGf...   \n",
       "3  off-street parking  https://images.craigslist.org/00b0b_lToTMrF94A...   \n",
       "4                None  https://images.craigslist.org/00F0F_5kBcK1AXGA...   \n",
       "\n",
       "                                         description latitude longitude  state  \n",
       "0  www.AlexandraApts.com  At Alexandra Apartments...  41.9669  -91.7285     ia  \n",
       "1  Very spacious 2 bedroom unit with remodeled ki...  42.0146  -91.6308     ia  \n",
       "2  Here at Continental Terrace Apartments we welc...  42.0147  -91.6307     ia  \n",
       "3  www.AlexandraApts.com  At Alexandra Apartments...  41.9669  -91.7285     ia  \n",
       "4  To schedule a tour We now book our tour appoin...  42.0427  -91.6429     ia  \n",
       "\n",
       "[5 rows x 22 columns]"
      ]
     },
     "execution_count": 7,
     "metadata": {},
     "output_type": "execute_result"
    }
   ],
   "source": [
    "df.head()"
   ]
  },
  {
   "cell_type": "code",
   "execution_count": null,
   "metadata": {
    "scrolled": true
   },
   "outputs": [],
   "source": [
    "# Load the data\n",
    "\n",
    "df = pd.read_csv('housing.csv')\n",
    "df"
   ]
  },
  {
   "cell_type": "code",
   "execution_count": null,
   "metadata": {},
   "outputs": [],
   "source": [
    "print(df.columns)"
   ]
  },
  {
   "cell_type": "code",
   "execution_count": null,
   "metadata": {},
   "outputs": [],
   "source": [
    "# Drop the null rows\n",
    "df = df.dropna()\n",
    "\n",
    "df"
   ]
  },
  {
   "cell_type": "code",
   "execution_count": null,
   "metadata": {},
   "outputs": [],
   "source": [
    "df=df.drop(columns=['id','url','region_url','image_url','description','lat','long'])\n",
    "df.head()"
   ]
  },
  {
   "cell_type": "code",
   "execution_count": null,
   "metadata": {},
   "outputs": [],
   "source": [
    "region_counts=df.region.value_counts()\n",
    "region_counts"
   ]
  },
  {
   "cell_type": "code",
   "execution_count": null,
   "metadata": {},
   "outputs": [],
   "source": []
  },
  {
   "cell_type": "code",
   "execution_count": null,
   "metadata": {},
   "outputs": [],
   "source": [
    "region_counts.plot.density(xlim=[0,3000])"
   ]
  },
  {
   "cell_type": "markdown",
   "metadata": {},
   "source": [
    "The density plot falls off around 500. Based on the plot we can see that there is still a sizable amount of data with the frequency greater than 500. So we will filter out regions that have a frequency less than 500 occurances to ensure all regions we work with have a good amount of data."
   ]
  },
  {
   "cell_type": "code",
   "execution_count": null,
   "metadata": {},
   "outputs": [],
   "source": [
    "regions_with_enough_data=list(region_counts[region_counts>=500].index)"
   ]
  },
  {
   "cell_type": "markdown",
   "metadata": {},
   "source": [
    "Next step is filtering the dataframe with regions greater than 500"
   ]
  },
  {
   "cell_type": "code",
   "execution_count": null,
   "metadata": {},
   "outputs": [],
   "source": [
    "region_enough_data_df=df[df.region.isin(regions_with_enough_data) ]\n",
    "region_enough_data_df"
   ]
  },
  {
   "cell_type": "code",
   "execution_count": null,
   "metadata": {},
   "outputs": [],
   "source": [
    "df=region_enough_data_df"
   ]
  },
  {
   "cell_type": "code",
   "execution_count": null,
   "metadata": {},
   "outputs": [],
   "source": [
    "df['price'].describe()"
   ]
  },
  {
   "cell_type": "code",
   "execution_count": null,
   "metadata": {},
   "outputs": [],
   "source": [
    "range=list(df.price.quantile([0.01,0.99]))\n",
    "range"
   ]
  },
  {
   "cell_type": "markdown",
   "metadata": {},
   "source": [
    "In the previous step we have found that values between 1 percentile and 99 percentile. Rest of the values are considered outliers and will be ignored."
   ]
  },
  {
   "cell_type": "code",
   "execution_count": null,
   "metadata": {},
   "outputs": [],
   "source": [
    "df=df[(df.price >= range[0]) & (df.price <= range[1])]\n",
    "df"
   ]
  },
  {
   "cell_type": "code",
   "execution_count": null,
   "metadata": {},
   "outputs": [],
   "source": [
    "df.type.value_counts()"
   ]
  },
  {
   "cell_type": "markdown",
   "metadata": {},
   "source": [
    "Loft, flat, cottage/cabin, in-law, land and assisted living have a very small amount\n",
    "of data (<1% of the dataset) so we will ignore it."
   ]
  },
  {
   "cell_type": "code",
   "execution_count": null,
   "metadata": {},
   "outputs": [],
   "source": [
    "df"
   ]
  },
  {
   "cell_type": "code",
   "execution_count": null,
   "metadata": {},
   "outputs": [],
   "source": [
    "df.dtypes"
   ]
  },
  {
   "cell_type": "code",
   "execution_count": null,
   "metadata": {},
   "outputs": [],
   "source": [
    "df=pd.get_dummies(data=df, columns=['region','type','laundry_options','parking_options','state'])\n",
    "df"
   ]
  },
  {
   "cell_type": "code",
   "execution_count": null,
   "metadata": {},
   "outputs": [],
   "source": [
    "# Create our features\n",
    "from sklearn.model_selection import train_test_split\n",
    "y = df['price']\n",
    "#X_with_dummies = pd.get_dummies(df)\n",
    "#X_with_dummies\n",
    "\n",
    "X=df.drop(columns=\"price\")\n",
    "#X=pd.get_dummies(X)\n",
    "\n",
    "# Create our target\n"
   ]
  },
  {
   "cell_type": "code",
   "execution_count": null,
   "metadata": {},
   "outputs": [],
   "source": [
    "X"
   ]
  },
  {
   "cell_type": "code",
   "execution_count": null,
   "metadata": {},
   "outputs": [],
   "source": [
    "X.columns.to_list()"
   ]
  },
  {
   "cell_type": "code",
   "execution_count": null,
   "metadata": {},
   "outputs": [],
   "source": [
    "from sklearn.model_selection import train_test_split\n",
    "# YOUR CODE HERE\n",
    "X_train, X_test, y_train, y_test=train_test_split(X,y, random_state=1)\n",
    "#Figure out how to fix stratify"
   ]
  },
  {
   "cell_type": "code",
   "execution_count": null,
   "metadata": {},
   "outputs": [],
   "source": [
    "from sklearn.linear_model import LinearRegression\n",
    "model = LinearRegression()"
   ]
  },
  {
   "cell_type": "code",
   "execution_count": null,
   "metadata": {},
   "outputs": [],
   "source": [
    "model.fit(X_train,y_train)"
   ]
  },
  {
   "cell_type": "code",
   "execution_count": null,
   "metadata": {},
   "outputs": [],
   "source": [
    "y_pred = model.predict(X_test)\n",
    "print(y_pred.shape)"
   ]
  },
  {
   "cell_type": "code",
   "execution_count": null,
   "metadata": {},
   "outputs": [],
   "source": [
    "from sklearn import metrics\n",
    "\n",
    "# RMSE\n",
    "print(np.sqrt(metrics.mean_squared_error(y_test, y_pred)))\n"
   ]
  },
  {
   "cell_type": "code",
   "execution_count": null,
   "metadata": {},
   "outputs": [],
   "source": [
    "\n"
   ]
  }
 ],
 "metadata": {
  "kernelspec": {
   "display_name": "mlenv",
   "language": "python",
   "name": "mlenv"
  },
  "language_info": {
   "codemirror_mode": {
    "name": "ipython",
    "version": 3
   },
   "file_extension": ".py",
   "mimetype": "text/x-python",
   "name": "python",
   "nbconvert_exporter": "python",
   "pygments_lexer": "ipython3",
   "version": "3.7.10"
  }
 },
 "nbformat": 4,
 "nbformat_minor": 2
}
